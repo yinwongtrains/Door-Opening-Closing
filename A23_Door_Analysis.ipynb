{
  "nbformat": 4,
  "nbformat_minor": 0,
  "metadata": {
    "colab": {
      "provenance": [],
      "authorship_tag": "ABX9TyN1tufNs88CaCfdg0MZR/1K",
      "include_colab_link": true
    },
    "kernelspec": {
      "name": "python3",
      "display_name": "Python 3"
    },
    "language_info": {
      "name": "python"
    }
  },
  "cells": [
    {
      "cell_type": "markdown",
      "metadata": {
        "id": "view-in-github",
        "colab_type": "text"
      },
      "source": [
        "<a href=\"https://colab.research.google.com/github/yinwongtrains/Door-Opening-Closing/blob/main/A23_Door_Analysis.ipynb\" target=\"_parent\"><img src=\"https://colab.research.google.com/assets/colab-badge.svg\" alt=\"Open In Colab\"/></a>"
      ]
    },
    {
      "cell_type": "code",
      "execution_count": 1,
      "metadata": {
        "id": "WADjsmiXoH3G"
      },
      "outputs": [],
      "source": [
        "import pandas as pd\n",
        "from bokeh.plotting import figure, show\n",
        "from bokeh.io import output_notebook\n",
        "from bokeh.layouts import column\n"
      ]
    },
    {
      "cell_type": "code",
      "source": [
        "# read the csv file and clean it up.\n",
        "df = (pd\n",
        "      .read_csv('A23_door_opening (1).csv')\n",
        "      .pivot(index=['SNAPSHOT_DATETIME'], columns=['SIGNAL_NAME'], values='SIGNAL_VALUE_N')\n",
        "      .reset_index()\n",
        "      .sort_values(by='SNAPSHOT_DATETIME')\n",
        ")\n",
        "\n",
        "df['SNAPSHOT_DATETIME'] = pd.to_datetime(df['SNAPSHOT_DATETIME'])\n",
        "\n",
        "display(df)\n",
        "print(f'\\nCheck number of signals >> {len(df.columns)}')"
      ],
      "metadata": {
        "colab": {
          "base_uri": "https://localhost:8080/",
          "height": 382
        },
        "id": "5JDY4vtGof9m",
        "outputId": "8ab91ecc-b458-4172-c009-ba8359fe9751"
      },
      "execution_count": 2,
      "outputs": [
        {
          "output_type": "error",
          "ename": "FileNotFoundError",
          "evalue": "[Errno 2] No such file or directory: 'A23_door_opening (1).csv'",
          "traceback": [
            "\u001b[0;31m---------------------------------------------------------------------------\u001b[0m",
            "\u001b[0;31mFileNotFoundError\u001b[0m                         Traceback (most recent call last)",
            "\u001b[0;32m<ipython-input-2-314a18d2c903>\u001b[0m in \u001b[0;36m<cell line: 2>\u001b[0;34m()\u001b[0m\n\u001b[1;32m      1\u001b[0m \u001b[0;31m# read the csv file and clean it up.\u001b[0m\u001b[0;34m\u001b[0m\u001b[0;34m\u001b[0m\u001b[0m\n\u001b[1;32m      2\u001b[0m df = (pd\n\u001b[0;32m----> 3\u001b[0;31m       \u001b[0;34m.\u001b[0m\u001b[0mread_csv\u001b[0m\u001b[0;34m(\u001b[0m\u001b[0;34m'A23_door_opening (1).csv'\u001b[0m\u001b[0;34m)\u001b[0m\u001b[0;34m\u001b[0m\u001b[0;34m\u001b[0m\u001b[0m\n\u001b[0m\u001b[1;32m      4\u001b[0m       \u001b[0;34m.\u001b[0m\u001b[0mpivot\u001b[0m\u001b[0;34m(\u001b[0m\u001b[0mindex\u001b[0m\u001b[0;34m=\u001b[0m\u001b[0;34m[\u001b[0m\u001b[0;34m'SNAPSHOT_DATETIME'\u001b[0m\u001b[0;34m]\u001b[0m\u001b[0;34m,\u001b[0m \u001b[0mcolumns\u001b[0m\u001b[0;34m=\u001b[0m\u001b[0;34m[\u001b[0m\u001b[0;34m'SIGNAL_NAME'\u001b[0m\u001b[0;34m]\u001b[0m\u001b[0;34m,\u001b[0m \u001b[0mvalues\u001b[0m\u001b[0;34m=\u001b[0m\u001b[0;34m'SIGNAL_VALUE_N'\u001b[0m\u001b[0;34m)\u001b[0m\u001b[0;34m\u001b[0m\u001b[0;34m\u001b[0m\u001b[0m\n\u001b[1;32m      5\u001b[0m       \u001b[0;34m.\u001b[0m\u001b[0mreset_index\u001b[0m\u001b[0;34m(\u001b[0m\u001b[0;34m)\u001b[0m\u001b[0;34m\u001b[0m\u001b[0;34m\u001b[0m\u001b[0m\n",
            "\u001b[0;32m/usr/local/lib/python3.10/dist-packages/pandas/io/parsers/readers.py\u001b[0m in \u001b[0;36mread_csv\u001b[0;34m(filepath_or_buffer, sep, delimiter, header, names, index_col, usecols, dtype, engine, converters, true_values, false_values, skipinitialspace, skiprows, skipfooter, nrows, na_values, keep_default_na, na_filter, verbose, skip_blank_lines, parse_dates, infer_datetime_format, keep_date_col, date_parser, date_format, dayfirst, cache_dates, iterator, chunksize, compression, thousands, decimal, lineterminator, quotechar, quoting, doublequote, escapechar, comment, encoding, encoding_errors, dialect, on_bad_lines, delim_whitespace, low_memory, memory_map, float_precision, storage_options, dtype_backend)\u001b[0m\n\u001b[1;32m    946\u001b[0m     \u001b[0mkwds\u001b[0m\u001b[0;34m.\u001b[0m\u001b[0mupdate\u001b[0m\u001b[0;34m(\u001b[0m\u001b[0mkwds_defaults\u001b[0m\u001b[0;34m)\u001b[0m\u001b[0;34m\u001b[0m\u001b[0;34m\u001b[0m\u001b[0m\n\u001b[1;32m    947\u001b[0m \u001b[0;34m\u001b[0m\u001b[0m\n\u001b[0;32m--> 948\u001b[0;31m     \u001b[0;32mreturn\u001b[0m \u001b[0m_read\u001b[0m\u001b[0;34m(\u001b[0m\u001b[0mfilepath_or_buffer\u001b[0m\u001b[0;34m,\u001b[0m \u001b[0mkwds\u001b[0m\u001b[0;34m)\u001b[0m\u001b[0;34m\u001b[0m\u001b[0;34m\u001b[0m\u001b[0m\n\u001b[0m\u001b[1;32m    949\u001b[0m \u001b[0;34m\u001b[0m\u001b[0m\n\u001b[1;32m    950\u001b[0m \u001b[0;34m\u001b[0m\u001b[0m\n",
            "\u001b[0;32m/usr/local/lib/python3.10/dist-packages/pandas/io/parsers/readers.py\u001b[0m in \u001b[0;36m_read\u001b[0;34m(filepath_or_buffer, kwds)\u001b[0m\n\u001b[1;32m    609\u001b[0m \u001b[0;34m\u001b[0m\u001b[0m\n\u001b[1;32m    610\u001b[0m     \u001b[0;31m# Create the parser.\u001b[0m\u001b[0;34m\u001b[0m\u001b[0;34m\u001b[0m\u001b[0m\n\u001b[0;32m--> 611\u001b[0;31m     \u001b[0mparser\u001b[0m \u001b[0;34m=\u001b[0m \u001b[0mTextFileReader\u001b[0m\u001b[0;34m(\u001b[0m\u001b[0mfilepath_or_buffer\u001b[0m\u001b[0;34m,\u001b[0m \u001b[0;34m**\u001b[0m\u001b[0mkwds\u001b[0m\u001b[0;34m)\u001b[0m\u001b[0;34m\u001b[0m\u001b[0;34m\u001b[0m\u001b[0m\n\u001b[0m\u001b[1;32m    612\u001b[0m \u001b[0;34m\u001b[0m\u001b[0m\n\u001b[1;32m    613\u001b[0m     \u001b[0;32mif\u001b[0m \u001b[0mchunksize\u001b[0m \u001b[0;32mor\u001b[0m \u001b[0miterator\u001b[0m\u001b[0;34m:\u001b[0m\u001b[0;34m\u001b[0m\u001b[0;34m\u001b[0m\u001b[0m\n",
            "\u001b[0;32m/usr/local/lib/python3.10/dist-packages/pandas/io/parsers/readers.py\u001b[0m in \u001b[0;36m__init__\u001b[0;34m(self, f, engine, **kwds)\u001b[0m\n\u001b[1;32m   1446\u001b[0m \u001b[0;34m\u001b[0m\u001b[0m\n\u001b[1;32m   1447\u001b[0m         \u001b[0mself\u001b[0m\u001b[0;34m.\u001b[0m\u001b[0mhandles\u001b[0m\u001b[0;34m:\u001b[0m \u001b[0mIOHandles\u001b[0m \u001b[0;34m|\u001b[0m \u001b[0;32mNone\u001b[0m \u001b[0;34m=\u001b[0m \u001b[0;32mNone\u001b[0m\u001b[0;34m\u001b[0m\u001b[0;34m\u001b[0m\u001b[0m\n\u001b[0;32m-> 1448\u001b[0;31m         \u001b[0mself\u001b[0m\u001b[0;34m.\u001b[0m\u001b[0m_engine\u001b[0m \u001b[0;34m=\u001b[0m \u001b[0mself\u001b[0m\u001b[0;34m.\u001b[0m\u001b[0m_make_engine\u001b[0m\u001b[0;34m(\u001b[0m\u001b[0mf\u001b[0m\u001b[0;34m,\u001b[0m \u001b[0mself\u001b[0m\u001b[0;34m.\u001b[0m\u001b[0mengine\u001b[0m\u001b[0;34m)\u001b[0m\u001b[0;34m\u001b[0m\u001b[0;34m\u001b[0m\u001b[0m\n\u001b[0m\u001b[1;32m   1449\u001b[0m \u001b[0;34m\u001b[0m\u001b[0m\n\u001b[1;32m   1450\u001b[0m     \u001b[0;32mdef\u001b[0m \u001b[0mclose\u001b[0m\u001b[0;34m(\u001b[0m\u001b[0mself\u001b[0m\u001b[0;34m)\u001b[0m \u001b[0;34m->\u001b[0m \u001b[0;32mNone\u001b[0m\u001b[0;34m:\u001b[0m\u001b[0;34m\u001b[0m\u001b[0;34m\u001b[0m\u001b[0m\n",
            "\u001b[0;32m/usr/local/lib/python3.10/dist-packages/pandas/io/parsers/readers.py\u001b[0m in \u001b[0;36m_make_engine\u001b[0;34m(self, f, engine)\u001b[0m\n\u001b[1;32m   1703\u001b[0m                 \u001b[0;32mif\u001b[0m \u001b[0;34m\"b\"\u001b[0m \u001b[0;32mnot\u001b[0m \u001b[0;32min\u001b[0m \u001b[0mmode\u001b[0m\u001b[0;34m:\u001b[0m\u001b[0;34m\u001b[0m\u001b[0;34m\u001b[0m\u001b[0m\n\u001b[1;32m   1704\u001b[0m                     \u001b[0mmode\u001b[0m \u001b[0;34m+=\u001b[0m \u001b[0;34m\"b\"\u001b[0m\u001b[0;34m\u001b[0m\u001b[0;34m\u001b[0m\u001b[0m\n\u001b[0;32m-> 1705\u001b[0;31m             self.handles = get_handle(\n\u001b[0m\u001b[1;32m   1706\u001b[0m                 \u001b[0mf\u001b[0m\u001b[0;34m,\u001b[0m\u001b[0;34m\u001b[0m\u001b[0;34m\u001b[0m\u001b[0m\n\u001b[1;32m   1707\u001b[0m                 \u001b[0mmode\u001b[0m\u001b[0;34m,\u001b[0m\u001b[0;34m\u001b[0m\u001b[0;34m\u001b[0m\u001b[0m\n",
            "\u001b[0;32m/usr/local/lib/python3.10/dist-packages/pandas/io/common.py\u001b[0m in \u001b[0;36mget_handle\u001b[0;34m(path_or_buf, mode, encoding, compression, memory_map, is_text, errors, storage_options)\u001b[0m\n\u001b[1;32m    861\u001b[0m         \u001b[0;32mif\u001b[0m \u001b[0mioargs\u001b[0m\u001b[0;34m.\u001b[0m\u001b[0mencoding\u001b[0m \u001b[0;32mand\u001b[0m \u001b[0;34m\"b\"\u001b[0m \u001b[0;32mnot\u001b[0m \u001b[0;32min\u001b[0m \u001b[0mioargs\u001b[0m\u001b[0;34m.\u001b[0m\u001b[0mmode\u001b[0m\u001b[0;34m:\u001b[0m\u001b[0;34m\u001b[0m\u001b[0;34m\u001b[0m\u001b[0m\n\u001b[1;32m    862\u001b[0m             \u001b[0;31m# Encoding\u001b[0m\u001b[0;34m\u001b[0m\u001b[0;34m\u001b[0m\u001b[0m\n\u001b[0;32m--> 863\u001b[0;31m             handle = open(\n\u001b[0m\u001b[1;32m    864\u001b[0m                 \u001b[0mhandle\u001b[0m\u001b[0;34m,\u001b[0m\u001b[0;34m\u001b[0m\u001b[0;34m\u001b[0m\u001b[0m\n\u001b[1;32m    865\u001b[0m                 \u001b[0mioargs\u001b[0m\u001b[0;34m.\u001b[0m\u001b[0mmode\u001b[0m\u001b[0;34m,\u001b[0m\u001b[0;34m\u001b[0m\u001b[0;34m\u001b[0m\u001b[0m\n",
            "\u001b[0;31mFileNotFoundError\u001b[0m: [Errno 2] No such file or directory: 'A23_door_opening (1).csv'"
          ]
        }
      ]
    },
    {
      "cell_type": "code",
      "source": [
        "# USER INPUTS\n",
        "\n",
        "# define the signal (door and opening/closing)\n",
        "signal = 'RT4DCRDCT6'\n",
        "renamed_signal = 'Door Close'\n",
        "\n",
        "# define start and end times\n",
        "t1 = '2022-07-01'\n",
        "t2 = '2022-07-18'\n",
        "\n",
        "# define the rolling window\n",
        "rolling_window = 30\n",
        "frequency = '6H'\n",
        "\n",
        "t1 = pd.Timestamp(t1)\n",
        "t2 = pd.Timestamp(t2)"
      ],
      "metadata": {
        "id": "w2e8EuAu4nFQ"
      },
      "execution_count": null,
      "outputs": []
    },
    {
      "cell_type": "code",
      "source": [
        "\n",
        "# CALCULATION\n",
        "\n",
        "\n",
        "df_working = (df[['SNAPSHOT_DATETIME', signal]]\n",
        "              .rename(columns={signal: renamed_signal})\n",
        "              .loc[(df['SNAPSHOT_DATETIME'] >= t1) & (df['SNAPSHOT_DATETIME'] <= t2)]\n",
        "              .loc[(df[signal] < 60)] # eliminate outliers\n",
        "              .set_index('SNAPSHOT_DATETIME')\n",
        ")\n",
        "\n",
        "df_working['SNAPSHOT_DATETIME'] = df_working.index\n",
        "\n",
        "df_working['Rolling Mean'] = df_working[renamed_signal].rolling(frequency).mean()\n",
        "df_working['Rolling Median'] = df_working[renamed_signal].rolling(frequency).median()\n",
        "df_working['Rolling Std'] = df_working[renamed_signal].rolling(frequency).std()\n",
        "\n",
        "display(df_working)\n",
        "\n",
        "\n",
        "output_notebook()\n",
        "\n",
        "# Create a figure object\n",
        "p = figure(title=f'{renamed_signal}', x_axis_type=\"datetime\", width=1000)\n",
        "\n",
        "# Add a scatter plot\n",
        "p.scatter(df_working['SNAPSHOT_DATETIME'], df_working[renamed_signal], color='blue', alpha=0.5, legend_label=f'{renamed_signal}')\n",
        "p.scatter(df_working['SNAPSHOT_DATETIME'], df_working['Rolling Mean'], color='red', alpha=0.5, legend_label=f'Rolling Mean {frequency}')\n",
        "p.scatter(df_working['SNAPSHOT_DATETIME'], df_working['Rolling Median'], color='green', alpha=0.5, legend_label=f'Rolling Median {frequency}')\n",
        "# p.scatter(df_working['SNAPSHOT_DATETIME'], df_working['Rolling Std'], color='orange')\n",
        "\n",
        "p.legend.label_text_font_size = \"10pt\"\n",
        "p.legend.location = \"top_left\"\n",
        "\n",
        "#######################\n",
        "\n",
        "p2 = figure(title=f'{renamed_signal}', x_axis_type=\"datetime\", width=1000)\n",
        "\n",
        "p2.scatter(df_working['SNAPSHOT_DATETIME'], df_working['Rolling Std'], color='orange', alpha=0.5, legend_label=f'Rolling Std {frequency}')\n",
        "\n",
        "p2.legend.label_text_font_size = \"10pt\"\n",
        "p2.legend.location = \"top_left\"\n",
        "\n",
        "########################\n",
        "\n",
        "# Show the plot\n",
        "show(column([p, p2]))\n",
        "\n"
      ],
      "metadata": {
        "id": "UBcVT71Kqb1i"
      },
      "execution_count": null,
      "outputs": []
    },
    {
      "cell_type": "markdown",
      "source": [
        "**Removing adjacent duplicatess**"
      ],
      "metadata": {
        "id": "0B7e-spkCx_L"
      }
    },
    {
      "cell_type": "code",
      "source": [
        "df_reduce = (df[['SNAPSHOT_DATETIME', signal]]\n",
        "              .rename(columns={signal: renamed_signal})\n",
        "              .loc[(df['SNAPSHOT_DATETIME'] >= t1) & (df['SNAPSHOT_DATETIME'] <= t2)]\n",
        "              # .loc[(df[signal] < 60)] # eliminate outliers\n",
        "              .set_index('SNAPSHOT_DATETIME')\n",
        ")\n",
        "\n",
        "df_reduce['SNAPSHOT_DATETIME'] = df_reduce.index\n",
        "\n",
        "# calculate the difference between each value and the previous to identify if it is the same\n",
        "df_reduce['diff'] = df_reduce[renamed_signal].diff()\n",
        "df_reduce = df_reduce[df_reduce['diff']!=0]\n",
        "\n",
        "df_reduce['Rolling Mean'] = df_reduce[renamed_signal].rolling(frequency).mean()\n",
        "df_reduce['Rolling Median'] = df_reduce[renamed_signal].rolling(frequency).median()\n",
        "df_reduce['Rolling Std'] = df_reduce[renamed_signal].rolling(frequency).std()\n",
        "\n",
        "display(df_reduce)\n",
        "\n",
        "output_notebook()\n",
        "\n",
        "# Create a figure object\n",
        "p = figure(title=f'{renamed_signal}', x_axis_type=\"datetime\", width=1000)\n",
        "\n",
        "# Add a scatter plot\n",
        "p.scatter(df_reduce['SNAPSHOT_DATETIME'], df_reduce[renamed_signal], color='blue', alpha=0.5, legend_label=f'{renamed_signal}')\n",
        "p.scatter(df_reduce['SNAPSHOT_DATETIME'], df_reduce['Rolling Mean'], color='red', alpha=0.5, legend_label=f'Rolling Mean {frequency}')\n",
        "p.scatter(df_reduce['SNAPSHOT_DATETIME'], df_reduce['Rolling Median'], color='green', alpha=0.5, legend_label=f'Rolling Median {frequency}')\n",
        "# p.scatter(df_working['SNAPSHOT_DATETIME'], df_working['Rolling Std'], color='orange')\n",
        "\n",
        "p.legend.label_text_font_size = \"10pt\"\n",
        "p.legend.location = \"top_left\"\n",
        "\n",
        "#######################\n",
        "\n",
        "p2 = figure(title=f'{renamed_signal}', x_axis_type=\"datetime\", width=1000)\n",
        "\n",
        "p2.scatter(df_reduce['SNAPSHOT_DATETIME'], df_reduce['Rolling Std'], color='orange', alpha=0.5, legend_label=f'Rolling Std {frequency}')\n",
        "\n",
        "p2.legend.label_text_font_size = \"10pt\"\n",
        "p2.legend.location = \"top_left\"\n",
        "\n",
        "########################\n",
        "\n",
        "# Show the plot\n",
        "show(column([p, p2]))"
      ],
      "metadata": {
        "id": "Q_gd4-2fqvYp"
      },
      "execution_count": null,
      "outputs": []
    },
    {
      "cell_type": "code",
      "source": [],
      "metadata": {
        "id": "YVteOKFAHvJt"
      },
      "execution_count": null,
      "outputs": []
    },
    {
      "cell_type": "markdown",
      "source": [
        "**Repeat on door closing time**"
      ],
      "metadata": {
        "id": "Ec3lL8aaHuen"
      }
    },
    {
      "cell_type": "code",
      "source": [
        "\n",
        "def run_everything(df_input, signal, t1, t2, frequency, calc_method, plot):\n",
        "\n",
        "  # USER INPUTS\n",
        "\n",
        "\n",
        "  if signal[8] == ['C']:\n",
        "    renamed_signal = 'Door Close'\n",
        "  elif signal[8] == ['O']:\n",
        "    renamed_signal = 'Door Open'\n",
        "  else:\n",
        "    renamed_signal = 'Unknown Signal'\n",
        "\n",
        "  t1 = pd.Timestamp(t1)\n",
        "  t2 = pd.Timestamp(t2)\n",
        "\n",
        "  df_working = reduce_to_rolling(df_input, renamed_signal)\n",
        "  df_working = calc_stats(df_working, renamed_signal, calc_method)\n",
        "\n",
        "  if plot == 1:\n",
        "    plot_results(df_working, renamed_signal)\n",
        "\n",
        "  return df_working\n",
        "\n",
        "def reduce_to_rolling(df_input, renamed_signal):\n",
        "  df_working = df_input.copy()\n",
        "\n",
        "  df_working = (df[['SNAPSHOT_DATETIME', signal]]\n",
        "                .rename(columns={signal: renamed_signal})\n",
        "                .loc[(df['SNAPSHOT_DATETIME'] >= t1) & (df['SNAPSHOT_DATETIME'] <= t2)]\n",
        "                # .loc[(df[signal] < 60)] # eliminate outliers\n",
        "                .set_index('SNAPSHOT_DATETIME')\n",
        "  )\n",
        "\n",
        "  df_working['SNAPSHOT_DATETIME'] = df_working.index\n",
        "\n",
        "  # calculate the difference between each value and the previous to identify if it is the same\n",
        "  df_working['diff'] = df_working[renamed_signal].diff()\n",
        "  df_working = df_working[df_working['diff']!=0]\n",
        "\n",
        "  return df_working\n",
        "\n",
        "def calc_stats(df_input, renamed_signal, calc_method):\n",
        "  df_working = df_input.copy()\n",
        "\n",
        "  if calc_method == 'rolling':\n",
        "    df_working['Rolling Mean'] = df_working[renamed_signal].rolling(frequency).mean()\n",
        "    df_working['Rolling Median'] = df_working[renamed_signal].rolling(frequency).median()\n",
        "    df_working['Rolling Std'] = df_working[renamed_signal].rolling(frequency).std()\n",
        "\n",
        "  if calc_method == 'grouping':\n",
        "    df_working = (df_working\n",
        "                  .groupby(pd.Grouper(freq=frequency)).agg({renamed_signal: ['mean', 'median', 'std']})\n",
        "                  # .reset_index(drop=True)\n",
        "    )\n",
        "    # df_working.columns = ['Grouped Mean', 'Grouped Median', 'Grouped Std']\n",
        "\n",
        "  return df_working\n",
        "\n",
        "def plot_results(df_input, renamed_signal):\n",
        "  output_notebook()\n",
        "\n",
        "  # Create a figure object\n",
        "  p = figure(title=f'{renamed_signal}', x_axis_type=\"datetime\", height=300, width=1000)\n",
        "\n",
        "  # Add a scatter plot\n",
        "  p.scatter(df_input['SNAPSHOT_DATETIME'], df_input[renamed_signal], color='blue', alpha=0.5, legend_label=f'{renamed_signal}')\n",
        "  p.scatter(df_input['SNAPSHOT_DATETIME'], df_input['Rolling Mean'], color='red', alpha=0.5, legend_label=f'Rolling Mean {frequency}')\n",
        "  p.scatter(df_input['SNAPSHOT_DATETIME'], df_input['Rolling Median'], color='green', alpha=0.5, legend_label=f'Rolling Median {frequency}')\n",
        "\n",
        "  p.legend.label_text_font_size = \"10pt\"\n",
        "  p.legend.location = \"top_left\"\n",
        "\n",
        "  #######################\n",
        "\n",
        "  p2 = figure(title=f'{renamed_signal}', x_axis_type=\"datetime\", height=300, width=1000)\n",
        "\n",
        "  p2.scatter(df_input['SNAPSHOT_DATETIME'], df_input['Rolling Std'], color='orange', alpha=0.5, legend_label=f'Rolling Std {frequency}')\n",
        "\n",
        "  p2.legend.label_text_font_size = \"10pt\"\n",
        "  p2.legend.location = \"top_left\"\n",
        "\n",
        "  ########################\n",
        "\n",
        "  # Show the plot\n",
        "  show(column([p, p2]))"
      ],
      "metadata": {
        "id": "9ZBujV9XbmWL"
      },
      "execution_count": null,
      "outputs": []
    },
    {
      "cell_type": "code",
      "source": [
        "# define start and end times\n",
        "signal = 'RT4DCRDCT6'\n",
        "t1 = '2022-07-01'\n",
        "t2 = '2022-07-18'\n",
        "frequency = '6H'\n",
        "calc_method = 'grouping'\n",
        "plot = 0\n",
        "\n",
        "df_out = run_everything(df, signal, t1, t2, frequency, calc_method, plot)\n",
        "display(df_out)"
      ],
      "metadata": {
        "id": "-oQmDOkka0C4"
      },
      "execution_count": null,
      "outputs": []
    },
    {
      "cell_type": "code",
      "source": [],
      "metadata": {
        "id": "8TqcslWl1pVD"
      },
      "execution_count": null,
      "outputs": []
    },
    {
      "cell_type": "code",
      "source": [],
      "metadata": {
        "id": "GTDacYFcyStY"
      },
      "execution_count": null,
      "outputs": []
    }
  ]
}